{
  "nbformat": 4,
  "nbformat_minor": 0,
  "metadata": {
    "colab": {
      "provenance": []
    },
    "kernelspec": {
      "name": "python3",
      "display_name": "Python 3"
    },
    "language_info": {
      "name": "python"
    }
  },
  "cells": [
    {
      "cell_type": "code",
      "execution_count": 1,
      "metadata": {
        "id": "xPIfZi-41y-e"
      },
      "outputs": [],
      "source": [
        "import requests\n",
        "from bs4 import BeautifulSoup\n",
        "import re\n",
        "\n",
        "# 青空文庫の作品ページ\n",
        "url = \"https://www.aozora.gr.jp/cards/000148/files/2371_13943.html\"\n",
        "res = requests.get(url)\n",
        "res.encoding = \"shift_jis\"  # 青空文庫はShift_JISでエンコードされている\n",
        "\n",
        "# HTMLを解析\n",
        "soup = BeautifulSoup(res.text, \"html.parser\")\n",
        "\n",
        "# 本文の開始位置を探す（青空文庫は <div class=\"main_text\"> 以降が本文）\n",
        "main_text = soup.find(\"div\", class_=\"main_text\")\n",
        "\n",
        "# テキスト抽出\n",
        "text = main_text.get_text()\n"
      ]
    },
    {
      "cell_type": "code",
      "source": [
        "# 改行・空白・ルビ・注釈などの除去\n",
        "cleaned_text = re.sub(r'［[^］]+］', '', text)  # ルビや注釈\n",
        "cleaned_text = re.sub(r'《[^》]+》', '', cleaned_text)  # ふりがな\n",
        "cleaned_text = re.sub(r'\\n', '', cleaned_text)  # 改行\n",
        "cleaned_text = re.sub(r'　', '', cleaned_text)  # 全角スペース\n"
      ],
      "metadata": {
        "id": "OYGY3FIt184o"
      },
      "execution_count": 2,
      "outputs": []
    },
    {
      "cell_type": "code",
      "source": [
        "# 手動で分割（簡易的な例）\n",
        "tokens = ['近頃', '文壇', '趨勢', '考える', '思う']\n",
        "\n",
        "# ストップワード例（助詞・助動詞など）\n",
        "stopwords = ['は', 'について', 'いろいろ', 'て', 'みよう', 'と思っています', '。']\n",
        "\n",
        "# ストップワード除去（今回は手動で除去済み）\n",
        "filtered_tokens = [token for token in tokens if token not in stopwords]\n",
        "\n",
        "print(\"ストップワード除去後の語:\", filtered_tokens)\n"
      ],
      "metadata": {
        "colab": {
          "base_uri": "https://localhost:8080/"
        },
        "id": "qGAfrsbb1_iO",
        "outputId": "061f1625-520f-4457-c916-9e6ee3ee8b1c"
      },
      "execution_count": 3,
      "outputs": [
        {
          "output_type": "stream",
          "name": "stdout",
          "text": [
            "ストップワード除去後の語: ['近頃', '文壇', '趨勢', '考える', '思う']\n"
          ]
        }
      ]
    }
  ]
}