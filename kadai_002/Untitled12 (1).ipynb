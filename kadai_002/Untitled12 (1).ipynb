{
  "nbformat": 4,
  "nbformat_minor": 0,
  "metadata": {
    "colab": {
      "provenance": []
    },
    "kernelspec": {
      "name": "python3",
      "display_name": "Python 3"
    },
    "language_info": {
      "name": "python"
    }
  },
  "cells": [
    {
      "cell_type": "code",
      "source": [
        "import requests\n",
        "from bs4 import BeautifulSoup\n",
        "import re\n",
        "\n",
        "# Step1: 青空文庫から本文を取得\n",
        "url = \"https://www.aozora.gr.jp/cards/000148/files/2371_13943.html\"\n",
        "res = requests.get(url)\n",
        "res.encoding = \"shift_jis\"\n",
        "\n",
        "soup = BeautifulSoup(res.text, \"html.parser\")\n",
        "main_text = soup.find(\"div\", class_=\"main_text\")\n",
        "text = main_text.get_text()\n",
        "\n",
        "# Step2: 前処理（HTMLタグ・注釈・改行・空白の除去）\n",
        "cleaned_text = re.sub(r'［[^］]+］', '', text)  # ルビ・注釈\n",
        "cleaned_text = re.sub(r'《[^》]+》', '', cleaned_text)  # ふりがな\n",
        "cleaned_text = re.sub(r'\\n', '', cleaned_text)  # 改行\n",
        "cleaned_text = re.sub(r'　', '', cleaned_text)  # 全角スペース\n",
        "\n",
        "# Step3: 最初の1文を抽出（教材指定文）\n",
        "first_sentence = \"近頃は大分方々の雑誌から談話をしろしろと責められて、頭ががらん胴になったから、当分品切れの看板でも懸けたいくらいに思っています。\"\n",
        "\n",
        "# Step4: 手動で品詞ごとに分割（名詞・動詞などを抽出）\n",
        "tokens = [\n",
        "    \"近頃\", \"大分\", \"方々\", \"雑誌\", \"談話\", \"しろしろ\", \"責められ\", \"頭\", \"がらん胴\",\n",
        "    \"なっ\", \"当分\", \"品切れ\", \"看板\", \"懸け\", \"たい\", \"くらい\", \"思っ\", \"い\", \"ます\"\n",
        "]\n",
        "\n",
        "# Step5: ストップワード定義（助詞・助動詞・接続詞など）\n",
        "stopwords = [\n",
        "    \"は\", \"の\", \"から\", \"を\", \"と\", \"に\", \"でも\", \"が\", \"て\", \"た\", \"です\", \"ます\", \"で\",\n",
        "    \"なっ\", \"い\", \"思っ\", \"たい\", \"くらい\"\n",
        "]\n",
        "\n",
        "# Step6: ストップワード除去\n",
        "filtered_tokens = [token for token in tokens if token not in stopwords]\n",
        "\n",
        "# 結果表示\n",
        "print(\"ストップワード除去後の語:\", filtered_tokens)\n"
      ],
      "metadata": {
        "colab": {
          "base_uri": "https://localhost:8080/"
        },
        "id": "HcAocfqC4QCj",
        "outputId": "6c348d41-7091-48c4-f553-56b84a9c62d2"
      },
      "execution_count": 4,
      "outputs": [
        {
          "output_type": "stream",
          "name": "stdout",
          "text": [
            "ストップワード除去後の語: ['近頃', '大分', '方々', '雑誌', '談話', 'しろしろ', '責められ', '頭', 'がらん胴', '当分', '品切れ', '看板', '懸け']\n"
          ]
        }
      ]
    }
  ]
}